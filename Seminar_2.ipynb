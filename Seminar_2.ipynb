{
 "cells": [
  {
   "cell_type": "code",
   "execution_count": 23,
   "id": "8e5259a5",
   "metadata": {},
   "outputs": [],
   "source": [
    "import pandas as pd"
   ]
  },
  {
   "attachments": {},
   "cell_type": "markdown",
   "id": "9517b90b",
   "metadata": {},
   "source": [
    "## Задание 1\n",
    "#### Считать данные с помощью pandas\n",
    "#### Вывести на экран первые 5 строк\n",
    "#### Посмотреть на описание признаков и на их содержание\n"
   ]
  },
  {
   "cell_type": "code",
   "execution_count": 24,
   "id": "f785834a",
   "metadata": {},
   "outputs": [],
   "source": [
    "df = pd.read_csv('laptop_price.csv',encoding='cp1251', index_col = 'laptop_ID')"
   ]
  },
  {
   "cell_type": "code",
   "execution_count": 25,
   "id": "8343a2f5",
   "metadata": {},
   "outputs": [
    {
     "data": {
      "text/html": [
       "<div>\n",
       "<style scoped>\n",
       "    .dataframe tbody tr th:only-of-type {\n",
       "        vertical-align: middle;\n",
       "    }\n",
       "\n",
       "    .dataframe tbody tr th {\n",
       "        vertical-align: top;\n",
       "    }\n",
       "\n",
       "    .dataframe thead th {\n",
       "        text-align: right;\n",
       "    }\n",
       "</style>\n",
       "<table border=\"1\" class=\"dataframe\">\n",
       "  <thead>\n",
       "    <tr style=\"text-align: right;\">\n",
       "      <th></th>\n",
       "      <th>Company</th>\n",
       "      <th>Product</th>\n",
       "      <th>TypeName</th>\n",
       "      <th>Inches</th>\n",
       "      <th>ScreenResolution</th>\n",
       "      <th>Cpu</th>\n",
       "      <th>Ram</th>\n",
       "      <th>Memory</th>\n",
       "      <th>Gpu</th>\n",
       "      <th>OpSys</th>\n",
       "      <th>Weight</th>\n",
       "      <th>Price_euros</th>\n",
       "    </tr>\n",
       "    <tr>\n",
       "      <th>laptop_ID</th>\n",
       "      <th></th>\n",
       "      <th></th>\n",
       "      <th></th>\n",
       "      <th></th>\n",
       "      <th></th>\n",
       "      <th></th>\n",
       "      <th></th>\n",
       "      <th></th>\n",
       "      <th></th>\n",
       "      <th></th>\n",
       "      <th></th>\n",
       "      <th></th>\n",
       "    </tr>\n",
       "  </thead>\n",
       "  <tbody>\n",
       "    <tr>\n",
       "      <th>1</th>\n",
       "      <td>Apple</td>\n",
       "      <td>MacBook Pro</td>\n",
       "      <td>Ultrabook</td>\n",
       "      <td>13.3</td>\n",
       "      <td>IPS Panel Retina Display 2560x1600</td>\n",
       "      <td>Intel Core i5 2.3GHz</td>\n",
       "      <td>8GB</td>\n",
       "      <td>128GB SSD</td>\n",
       "      <td>Intel Iris Plus Graphics 640</td>\n",
       "      <td>macOS</td>\n",
       "      <td>1.37kg</td>\n",
       "      <td>1339.69</td>\n",
       "    </tr>\n",
       "    <tr>\n",
       "      <th>2</th>\n",
       "      <td>Apple</td>\n",
       "      <td>Macbook Air</td>\n",
       "      <td>Ultrabook</td>\n",
       "      <td>13.3</td>\n",
       "      <td>1440x900</td>\n",
       "      <td>Intel Core i5 1.8GHz</td>\n",
       "      <td>8GB</td>\n",
       "      <td>128GB Flash Storage</td>\n",
       "      <td>Intel HD Graphics 6000</td>\n",
       "      <td>macOS</td>\n",
       "      <td>1.34kg</td>\n",
       "      <td>898.94</td>\n",
       "    </tr>\n",
       "    <tr>\n",
       "      <th>3</th>\n",
       "      <td>HP</td>\n",
       "      <td>250 G6</td>\n",
       "      <td>Notebook</td>\n",
       "      <td>15.6</td>\n",
       "      <td>Full HD 1920x1080</td>\n",
       "      <td>Intel Core i5 7200U 2.5GHz</td>\n",
       "      <td>8GB</td>\n",
       "      <td>256GB SSD</td>\n",
       "      <td>Intel HD Graphics 620</td>\n",
       "      <td>No OS</td>\n",
       "      <td>1.86kg</td>\n",
       "      <td>575.00</td>\n",
       "    </tr>\n",
       "    <tr>\n",
       "      <th>4</th>\n",
       "      <td>Apple</td>\n",
       "      <td>MacBook Pro</td>\n",
       "      <td>Ultrabook</td>\n",
       "      <td>15.4</td>\n",
       "      <td>IPS Panel Retina Display 2880x1800</td>\n",
       "      <td>Intel Core i7 2.7GHz</td>\n",
       "      <td>16GB</td>\n",
       "      <td>512GB SSD</td>\n",
       "      <td>AMD Radeon Pro 455</td>\n",
       "      <td>macOS</td>\n",
       "      <td>1.83kg</td>\n",
       "      <td>2537.45</td>\n",
       "    </tr>\n",
       "    <tr>\n",
       "      <th>5</th>\n",
       "      <td>Apple</td>\n",
       "      <td>MacBook Pro</td>\n",
       "      <td>Ultrabook</td>\n",
       "      <td>13.3</td>\n",
       "      <td>IPS Panel Retina Display 2560x1600</td>\n",
       "      <td>Intel Core i5 3.1GHz</td>\n",
       "      <td>8GB</td>\n",
       "      <td>256GB SSD</td>\n",
       "      <td>Intel Iris Plus Graphics 650</td>\n",
       "      <td>macOS</td>\n",
       "      <td>1.37kg</td>\n",
       "      <td>1803.60</td>\n",
       "    </tr>\n",
       "  </tbody>\n",
       "</table>\n",
       "</div>"
      ],
      "text/plain": [
       "          Company      Product   TypeName  Inches   \n",
       "laptop_ID                                           \n",
       "1           Apple  MacBook Pro  Ultrabook    13.3  \\\n",
       "2           Apple  Macbook Air  Ultrabook    13.3   \n",
       "3              HP       250 G6   Notebook    15.6   \n",
       "4           Apple  MacBook Pro  Ultrabook    15.4   \n",
       "5           Apple  MacBook Pro  Ultrabook    13.3   \n",
       "\n",
       "                             ScreenResolution                         Cpu   \n",
       "laptop_ID                                                                   \n",
       "1          IPS Panel Retina Display 2560x1600        Intel Core i5 2.3GHz  \\\n",
       "2                                    1440x900        Intel Core i5 1.8GHz   \n",
       "3                           Full HD 1920x1080  Intel Core i5 7200U 2.5GHz   \n",
       "4          IPS Panel Retina Display 2880x1800        Intel Core i7 2.7GHz   \n",
       "5          IPS Panel Retina Display 2560x1600        Intel Core i5 3.1GHz   \n",
       "\n",
       "            Ram               Memory                           Gpu  OpSys   \n",
       "laptop_ID                                                                   \n",
       "1           8GB            128GB SSD  Intel Iris Plus Graphics 640  macOS  \\\n",
       "2           8GB  128GB Flash Storage        Intel HD Graphics 6000  macOS   \n",
       "3           8GB            256GB SSD         Intel HD Graphics 620  No OS   \n",
       "4          16GB            512GB SSD            AMD Radeon Pro 455  macOS   \n",
       "5           8GB            256GB SSD  Intel Iris Plus Graphics 650  macOS   \n",
       "\n",
       "           Weight  Price_euros  \n",
       "laptop_ID                       \n",
       "1          1.37kg      1339.69  \n",
       "2          1.34kg       898.94  \n",
       "3          1.86kg       575.00  \n",
       "4          1.83kg      2537.45  \n",
       "5          1.37kg      1803.60  "
      ]
     },
     "execution_count": 25,
     "metadata": {},
     "output_type": "execute_result"
    }
   ],
   "source": [
    "df.head(5)"
   ]
  },
  {
   "cell_type": "code",
   "execution_count": 26,
   "id": "8225abf5",
   "metadata": {},
   "outputs": [
    {
     "data": {
      "text/html": [
       "<div>\n",
       "<style scoped>\n",
       "    .dataframe tbody tr th:only-of-type {\n",
       "        vertical-align: middle;\n",
       "    }\n",
       "\n",
       "    .dataframe tbody tr th {\n",
       "        vertical-align: top;\n",
       "    }\n",
       "\n",
       "    .dataframe thead th {\n",
       "        text-align: right;\n",
       "    }\n",
       "</style>\n",
       "<table border=\"1\" class=\"dataframe\">\n",
       "  <thead>\n",
       "    <tr style=\"text-align: right;\">\n",
       "      <th></th>\n",
       "      <th>Inches</th>\n",
       "      <th>Price_euros</th>\n",
       "    </tr>\n",
       "  </thead>\n",
       "  <tbody>\n",
       "    <tr>\n",
       "      <th>count</th>\n",
       "      <td>1303.000000</td>\n",
       "      <td>1303.000000</td>\n",
       "    </tr>\n",
       "    <tr>\n",
       "      <th>mean</th>\n",
       "      <td>15.017191</td>\n",
       "      <td>1123.686992</td>\n",
       "    </tr>\n",
       "    <tr>\n",
       "      <th>std</th>\n",
       "      <td>1.426304</td>\n",
       "      <td>699.009043</td>\n",
       "    </tr>\n",
       "    <tr>\n",
       "      <th>min</th>\n",
       "      <td>10.100000</td>\n",
       "      <td>174.000000</td>\n",
       "    </tr>\n",
       "    <tr>\n",
       "      <th>25%</th>\n",
       "      <td>14.000000</td>\n",
       "      <td>599.000000</td>\n",
       "    </tr>\n",
       "    <tr>\n",
       "      <th>50%</th>\n",
       "      <td>15.600000</td>\n",
       "      <td>977.000000</td>\n",
       "    </tr>\n",
       "    <tr>\n",
       "      <th>75%</th>\n",
       "      <td>15.600000</td>\n",
       "      <td>1487.880000</td>\n",
       "    </tr>\n",
       "    <tr>\n",
       "      <th>max</th>\n",
       "      <td>18.400000</td>\n",
       "      <td>6099.000000</td>\n",
       "    </tr>\n",
       "  </tbody>\n",
       "</table>\n",
       "</div>"
      ],
      "text/plain": [
       "            Inches  Price_euros\n",
       "count  1303.000000  1303.000000\n",
       "mean     15.017191  1123.686992\n",
       "std       1.426304   699.009043\n",
       "min      10.100000   174.000000\n",
       "25%      14.000000   599.000000\n",
       "50%      15.600000   977.000000\n",
       "75%      15.600000  1487.880000\n",
       "max      18.400000  6099.000000"
      ]
     },
     "execution_count": 26,
     "metadata": {},
     "output_type": "execute_result"
    }
   ],
   "source": [
    "df.describe()"
   ]
  },
  {
   "cell_type": "code",
   "execution_count": 27,
   "id": "c186347f",
   "metadata": {},
   "outputs": [
    {
     "data": {
      "text/html": [
       "<div>\n",
       "<style scoped>\n",
       "    .dataframe tbody tr th:only-of-type {\n",
       "        vertical-align: middle;\n",
       "    }\n",
       "\n",
       "    .dataframe tbody tr th {\n",
       "        vertical-align: top;\n",
       "    }\n",
       "\n",
       "    .dataframe thead th {\n",
       "        text-align: right;\n",
       "    }\n",
       "</style>\n",
       "<table border=\"1\" class=\"dataframe\">\n",
       "  <thead>\n",
       "    <tr style=\"text-align: right;\">\n",
       "      <th></th>\n",
       "      <th>Company</th>\n",
       "      <th>Product</th>\n",
       "      <th>TypeName</th>\n",
       "      <th>ScreenResolution</th>\n",
       "      <th>Cpu</th>\n",
       "      <th>Ram</th>\n",
       "      <th>Memory</th>\n",
       "      <th>Gpu</th>\n",
       "      <th>OpSys</th>\n",
       "      <th>Weight</th>\n",
       "    </tr>\n",
       "  </thead>\n",
       "  <tbody>\n",
       "    <tr>\n",
       "      <th>count</th>\n",
       "      <td>1303</td>\n",
       "      <td>1303</td>\n",
       "      <td>1303</td>\n",
       "      <td>1303</td>\n",
       "      <td>1303</td>\n",
       "      <td>1303</td>\n",
       "      <td>1303</td>\n",
       "      <td>1303</td>\n",
       "      <td>1303</td>\n",
       "      <td>1303</td>\n",
       "    </tr>\n",
       "    <tr>\n",
       "      <th>unique</th>\n",
       "      <td>19</td>\n",
       "      <td>618</td>\n",
       "      <td>6</td>\n",
       "      <td>40</td>\n",
       "      <td>118</td>\n",
       "      <td>9</td>\n",
       "      <td>39</td>\n",
       "      <td>110</td>\n",
       "      <td>9</td>\n",
       "      <td>179</td>\n",
       "    </tr>\n",
       "    <tr>\n",
       "      <th>top</th>\n",
       "      <td>Dell</td>\n",
       "      <td>XPS 13</td>\n",
       "      <td>Notebook</td>\n",
       "      <td>Full HD 1920x1080</td>\n",
       "      <td>Intel Core i5 7200U 2.5GHz</td>\n",
       "      <td>8GB</td>\n",
       "      <td>256GB SSD</td>\n",
       "      <td>Intel HD Graphics 620</td>\n",
       "      <td>Windows 10</td>\n",
       "      <td>2.2kg</td>\n",
       "    </tr>\n",
       "    <tr>\n",
       "      <th>freq</th>\n",
       "      <td>297</td>\n",
       "      <td>30</td>\n",
       "      <td>727</td>\n",
       "      <td>507</td>\n",
       "      <td>190</td>\n",
       "      <td>619</td>\n",
       "      <td>412</td>\n",
       "      <td>281</td>\n",
       "      <td>1072</td>\n",
       "      <td>121</td>\n",
       "    </tr>\n",
       "  </tbody>\n",
       "</table>\n",
       "</div>"
      ],
      "text/plain": [
       "       Company Product  TypeName   ScreenResolution   \n",
       "count     1303    1303      1303               1303  \\\n",
       "unique      19     618         6                 40   \n",
       "top       Dell  XPS 13  Notebook  Full HD 1920x1080   \n",
       "freq       297      30       727                507   \n",
       "\n",
       "                               Cpu   Ram     Memory                    Gpu   \n",
       "count                         1303  1303       1303                   1303  \\\n",
       "unique                         118     9         39                    110   \n",
       "top     Intel Core i5 7200U 2.5GHz   8GB  256GB SSD  Intel HD Graphics 620   \n",
       "freq                           190   619        412                    281   \n",
       "\n",
       "             OpSys Weight  \n",
       "count         1303   1303  \n",
       "unique           9    179  \n",
       "top     Windows 10  2.2kg  \n",
       "freq          1072    121  "
      ]
     },
     "execution_count": 27,
     "metadata": {},
     "output_type": "execute_result"
    }
   ],
   "source": [
    "df.describe(include = 'object')"
   ]
  },
  {
   "attachments": {},
   "cell_type": "markdown",
   "id": "31e521e4",
   "metadata": {},
   "source": [
    "## Задание 2\n",
    "#### Изучите типы данных\n",
    "#### Найдите количество пропущенных ячеек в данных\n",
    "#### Посчитайте основные статистики по всем признакам и поизучайте их\n"
   ]
  },
  {
   "cell_type": "code",
   "execution_count": 28,
   "id": "1d1020d8",
   "metadata": {},
   "outputs": [
    {
     "data": {
      "text/plain": [
       "Company              object\n",
       "Product              object\n",
       "TypeName             object\n",
       "Inches              float64\n",
       "ScreenResolution     object\n",
       "Cpu                  object\n",
       "Ram                  object\n",
       "Memory               object\n",
       "Gpu                  object\n",
       "OpSys                object\n",
       "Weight               object\n",
       "Price_euros         float64\n",
       "dtype: object"
      ]
     },
     "execution_count": 28,
     "metadata": {},
     "output_type": "execute_result"
    }
   ],
   "source": [
    "df.dtypes"
   ]
  },
  {
   "cell_type": "code",
   "execution_count": null,
   "id": "4c69d217",
   "metadata": {},
   "outputs": [],
   "source": [
    "df.isnull().sum()"
   ]
  },
  {
   "attachments": {},
   "cell_type": "markdown",
   "id": "d7c82d8d",
   "metadata": {},
   "source": [
    "## Задание 3\n",
    "#### 3.1 Ноутбуков от какой компании больше всего в наборе данных?\n",
    "#### 3.2 Какая минимальная и максимальная стоимость у ноутбуков в данных?\n",
    "#### 3.3 Какой самый дорогой ноутбук в данных?\n",
    "###### Выведите все характеристики только по этому ноутбуку\n",
    "###### Если таких ноутбуков несколько, то выводите их всех"
   ]
  },
  {
   "cell_type": "code",
   "execution_count": 29,
   "id": "ddef06d8",
   "metadata": {},
   "outputs": [
    {
     "data": {
      "text/plain": [
       "Company\n",
       "Dell         297\n",
       "Lenovo       297\n",
       "HP           274\n",
       "Asus         158\n",
       "Acer         103\n",
       "MSI           54\n",
       "Toshiba       48\n",
       "Apple         21\n",
       "Samsung        9\n",
       "Razer          7\n",
       "Mediacom       7\n",
       "Microsoft      6\n",
       "Xiaomi         4\n",
       "Vero           4\n",
       "Chuwi          3\n",
       "Google         3\n",
       "Fujitsu        3\n",
       "LG             3\n",
       "Huawei         2\n",
       "Name: count, dtype: int64"
      ]
     },
     "execution_count": 29,
     "metadata": {},
     "output_type": "execute_result"
    }
   ],
   "source": [
    "df.Company.value_counts()"
   ]
  },
  {
   "cell_type": "code",
   "execution_count": 30,
   "id": "8ac38fe2",
   "metadata": {},
   "outputs": [
    {
     "data": {
      "text/plain": [
       "297"
      ]
     },
     "execution_count": 30,
     "metadata": {},
     "output_type": "execute_result"
    }
   ],
   "source": [
    "df.Company.value_counts().max()"
   ]
  },
  {
   "cell_type": "code",
   "execution_count": 31,
   "id": "2b4eeef2",
   "metadata": {},
   "outputs": [
    {
     "data": {
      "text/plain": [
       "Company\n",
       "Dell      297\n",
       "Lenovo    297\n",
       "Name: count, dtype: int64"
      ]
     },
     "execution_count": 31,
     "metadata": {},
     "output_type": "execute_result"
    }
   ],
   "source": [
    "df.Company.value_counts()[df.Company.value_counts() == df.Company.value_counts().max()]"
   ]
  },
  {
   "cell_type": "code",
   "execution_count": 32,
   "id": "8b4fe218",
   "metadata": {},
   "outputs": [
    {
     "data": {
      "text/plain": [
       "array([297, 297, 274, 158, 103,  54,  48,  21,   9,   7,   7,   6,   4,\n",
       "         4,   3,   3,   3,   3,   2], dtype=int64)"
      ]
     },
     "execution_count": 32,
     "metadata": {},
     "output_type": "execute_result"
    }
   ],
   "source": [
    "df.Company.value_counts().values"
   ]
  },
  {
   "cell_type": "code",
   "execution_count": 33,
   "id": "229679ba",
   "metadata": {},
   "outputs": [
    {
     "data": {
      "text/plain": [
       "(6099.0, 174.0)"
      ]
     },
     "execution_count": 33,
     "metadata": {},
     "output_type": "execute_result"
    }
   ],
   "source": [
    "df.Price_euros.max(),df.Price_euros.min()"
   ]
  },
  {
   "cell_type": "code",
   "execution_count": 34,
   "id": "9154ebaa",
   "metadata": {},
   "outputs": [
    {
     "data": {
      "text/html": [
       "<div>\n",
       "<style scoped>\n",
       "    .dataframe tbody tr th:only-of-type {\n",
       "        vertical-align: middle;\n",
       "    }\n",
       "\n",
       "    .dataframe tbody tr th {\n",
       "        vertical-align: top;\n",
       "    }\n",
       "\n",
       "    .dataframe thead th {\n",
       "        text-align: right;\n",
       "    }\n",
       "</style>\n",
       "<table border=\"1\" class=\"dataframe\">\n",
       "  <thead>\n",
       "    <tr style=\"text-align: right;\">\n",
       "      <th></th>\n",
       "      <th>Company</th>\n",
       "      <th>Product</th>\n",
       "      <th>TypeName</th>\n",
       "      <th>Inches</th>\n",
       "      <th>ScreenResolution</th>\n",
       "      <th>Cpu</th>\n",
       "      <th>Ram</th>\n",
       "      <th>Memory</th>\n",
       "      <th>Gpu</th>\n",
       "      <th>OpSys</th>\n",
       "      <th>Weight</th>\n",
       "      <th>Price_euros</th>\n",
       "    </tr>\n",
       "    <tr>\n",
       "      <th>laptop_ID</th>\n",
       "      <th></th>\n",
       "      <th></th>\n",
       "      <th></th>\n",
       "      <th></th>\n",
       "      <th></th>\n",
       "      <th></th>\n",
       "      <th></th>\n",
       "      <th></th>\n",
       "      <th></th>\n",
       "      <th></th>\n",
       "      <th></th>\n",
       "      <th></th>\n",
       "    </tr>\n",
       "  </thead>\n",
       "  <tbody>\n",
       "    <tr>\n",
       "      <th>200</th>\n",
       "      <td>Razer</td>\n",
       "      <td>Blade Pro</td>\n",
       "      <td>Gaming</td>\n",
       "      <td>17.3</td>\n",
       "      <td>4K Ultra HD / Touchscreen 3840x2160</td>\n",
       "      <td>Intel Core i7 7820HK 2.9GHz</td>\n",
       "      <td>32GB</td>\n",
       "      <td>1TB SSD</td>\n",
       "      <td>Nvidia GeForce GTX 1080</td>\n",
       "      <td>Windows 10</td>\n",
       "      <td>3.49kg</td>\n",
       "      <td>6099.0</td>\n",
       "    </tr>\n",
       "  </tbody>\n",
       "</table>\n",
       "</div>"
      ],
      "text/plain": [
       "          Company    Product TypeName  Inches   \n",
       "laptop_ID                                       \n",
       "200         Razer  Blade Pro   Gaming    17.3  \\\n",
       "\n",
       "                              ScreenResolution                          Cpu   \n",
       "laptop_ID                                                                     \n",
       "200        4K Ultra HD / Touchscreen 3840x2160  Intel Core i7 7820HK 2.9GHz  \\\n",
       "\n",
       "            Ram   Memory                      Gpu       OpSys  Weight   \n",
       "laptop_ID                                                               \n",
       "200        32GB  1TB SSD  Nvidia GeForce GTX 1080  Windows 10  3.49kg  \\\n",
       "\n",
       "           Price_euros  \n",
       "laptop_ID               \n",
       "200             6099.0  "
      ]
     },
     "execution_count": 34,
     "metadata": {},
     "output_type": "execute_result"
    }
   ],
   "source": [
    "df[df.Price_euros == df.Price_euros.max()]"
   ]
  },
  {
   "cell_type": "code",
   "execution_count": 35,
   "id": "72706f67",
   "metadata": {},
   "outputs": [
    {
     "data": {
      "text/plain": [
       "Company                                           Razer\n",
       "Product                                       Blade Pro\n",
       "TypeName                                         Gaming\n",
       "Inches                                             17.3\n",
       "ScreenResolution    4K Ultra HD / Touchscreen 3840x2160\n",
       "Cpu                         Intel Core i7 7820HK 2.9GHz\n",
       "Ram                                                32GB\n",
       "Memory                                          1TB SSD\n",
       "Gpu                             Nvidia GeForce GTX 1080\n",
       "OpSys                                        Windows 10\n",
       "Weight                                           3.49kg\n",
       "Price_euros                                      6099.0\n",
       "Name: 200, dtype: object"
      ]
     },
     "execution_count": 35,
     "metadata": {},
     "output_type": "execute_result"
    }
   ],
   "source": [
    "df.sort_values('Price_euros', ascending = False).iloc[0]"
   ]
  },
  {
   "cell_type": "markdown",
   "id": "0dabc2bd",
   "metadata": {},
   "source": [
    "## Задание 4\n",
    "## 4.1 Найдите ноутбуки с самой маленькой диагональю в данных?\n",
    "Выведите только следующие характеристики:\n",
    "Компания\n",
    "Типа ноутбука\n",
    "Диагональ\n",
    "Стоимость\n",
    "Если таких ноутбуков несколько, то выводите их всех\n",
    "## 4.2 Сколько стоит самый дорогой ноутбук у компании HP?\n",
    "## 4.3 Как много ноутбуков Ultrabook с 8GB RAM?\n",
    "Найдите сколько таких ультрабуков с 8GB ОЗУ в процентном соотношении относительно всех ультрабуков"
   ]
  },
  {
   "cell_type": "code",
   "execution_count": 36,
   "id": "597826ee",
   "metadata": {},
   "outputs": [
    {
     "data": {
      "text/html": [
       "<div>\n",
       "<style scoped>\n",
       "    .dataframe tbody tr th:only-of-type {\n",
       "        vertical-align: middle;\n",
       "    }\n",
       "\n",
       "    .dataframe tbody tr th {\n",
       "        vertical-align: top;\n",
       "    }\n",
       "\n",
       "    .dataframe thead th {\n",
       "        text-align: right;\n",
       "    }\n",
       "</style>\n",
       "<table border=\"1\" class=\"dataframe\">\n",
       "  <thead>\n",
       "    <tr style=\"text-align: right;\">\n",
       "      <th></th>\n",
       "      <th>Company</th>\n",
       "      <th>Product</th>\n",
       "      <th>TypeName</th>\n",
       "      <th>Inches</th>\n",
       "      <th>ScreenResolution</th>\n",
       "      <th>Cpu</th>\n",
       "      <th>Ram</th>\n",
       "      <th>Memory</th>\n",
       "      <th>Gpu</th>\n",
       "      <th>OpSys</th>\n",
       "      <th>Weight</th>\n",
       "      <th>Price_euros</th>\n",
       "    </tr>\n",
       "    <tr>\n",
       "      <th>laptop_ID</th>\n",
       "      <th></th>\n",
       "      <th></th>\n",
       "      <th></th>\n",
       "      <th></th>\n",
       "      <th></th>\n",
       "      <th></th>\n",
       "      <th></th>\n",
       "      <th></th>\n",
       "      <th></th>\n",
       "      <th></th>\n",
       "      <th></th>\n",
       "      <th></th>\n",
       "    </tr>\n",
       "  </thead>\n",
       "  <tbody>\n",
       "    <tr>\n",
       "      <th>1</th>\n",
       "      <td>Apple</td>\n",
       "      <td>MacBook Pro</td>\n",
       "      <td>Ultrabook</td>\n",
       "      <td>13.3</td>\n",
       "      <td>IPS Panel Retina Display 2560x1600</td>\n",
       "      <td>Intel Core i5 2.3GHz</td>\n",
       "      <td>8GB</td>\n",
       "      <td>128GB SSD</td>\n",
       "      <td>Intel Iris Plus Graphics 640</td>\n",
       "      <td>macOS</td>\n",
       "      <td>1.37kg</td>\n",
       "      <td>1339.69</td>\n",
       "    </tr>\n",
       "    <tr>\n",
       "      <th>2</th>\n",
       "      <td>Apple</td>\n",
       "      <td>Macbook Air</td>\n",
       "      <td>Ultrabook</td>\n",
       "      <td>13.3</td>\n",
       "      <td>1440x900</td>\n",
       "      <td>Intel Core i5 1.8GHz</td>\n",
       "      <td>8GB</td>\n",
       "      <td>128GB Flash Storage</td>\n",
       "      <td>Intel HD Graphics 6000</td>\n",
       "      <td>macOS</td>\n",
       "      <td>1.34kg</td>\n",
       "      <td>898.94</td>\n",
       "    </tr>\n",
       "  </tbody>\n",
       "</table>\n",
       "</div>"
      ],
      "text/plain": [
       "          Company      Product   TypeName  Inches   \n",
       "laptop_ID                                           \n",
       "1           Apple  MacBook Pro  Ultrabook    13.3  \\\n",
       "2           Apple  Macbook Air  Ultrabook    13.3   \n",
       "\n",
       "                             ScreenResolution                   Cpu  Ram   \n",
       "laptop_ID                                                                  \n",
       "1          IPS Panel Retina Display 2560x1600  Intel Core i5 2.3GHz  8GB  \\\n",
       "2                                    1440x900  Intel Core i5 1.8GHz  8GB   \n",
       "\n",
       "                        Memory                           Gpu  OpSys  Weight   \n",
       "laptop_ID                                                                     \n",
       "1                    128GB SSD  Intel Iris Plus Graphics 640  macOS  1.37kg  \\\n",
       "2          128GB Flash Storage        Intel HD Graphics 6000  macOS  1.34kg   \n",
       "\n",
       "           Price_euros  \n",
       "laptop_ID               \n",
       "1              1339.69  \n",
       "2               898.94  "
      ]
     },
     "execution_count": 36,
     "metadata": {},
     "output_type": "execute_result"
    }
   ],
   "source": [
    "df.head(2)"
   ]
  },
  {
   "cell_type": "code",
   "execution_count": 37,
   "id": "5893a4c8",
   "metadata": {},
   "outputs": [
    {
     "data": {
      "text/html": [
       "<div>\n",
       "<style scoped>\n",
       "    .dataframe tbody tr th:only-of-type {\n",
       "        vertical-align: middle;\n",
       "    }\n",
       "\n",
       "    .dataframe tbody tr th {\n",
       "        vertical-align: top;\n",
       "    }\n",
       "\n",
       "    .dataframe thead th {\n",
       "        text-align: right;\n",
       "    }\n",
       "</style>\n",
       "<table border=\"1\" class=\"dataframe\">\n",
       "  <thead>\n",
       "    <tr style=\"text-align: right;\">\n",
       "      <th></th>\n",
       "      <th>Company</th>\n",
       "      <th>TypeName</th>\n",
       "      <th>Inches</th>\n",
       "      <th>Price_euros</th>\n",
       "    </tr>\n",
       "    <tr>\n",
       "      <th>laptop_ID</th>\n",
       "      <th></th>\n",
       "      <th></th>\n",
       "      <th></th>\n",
       "      <th></th>\n",
       "    </tr>\n",
       "  </thead>\n",
       "  <tbody>\n",
       "    <tr>\n",
       "      <th>51</th>\n",
       "      <td>Lenovo</td>\n",
       "      <td>2 in 1 Convertible</td>\n",
       "      <td>10.1</td>\n",
       "      <td>319.00</td>\n",
       "    </tr>\n",
       "    <tr>\n",
       "      <th>1097</th>\n",
       "      <td>Lenovo</td>\n",
       "      <td>2 in 1 Convertible</td>\n",
       "      <td>10.1</td>\n",
       "      <td>646.27</td>\n",
       "    </tr>\n",
       "    <tr>\n",
       "      <th>1129</th>\n",
       "      <td>Lenovo</td>\n",
       "      <td>2 in 1 Convertible</td>\n",
       "      <td>10.1</td>\n",
       "      <td>549.00</td>\n",
       "    </tr>\n",
       "    <tr>\n",
       "      <th>1141</th>\n",
       "      <td>Lenovo</td>\n",
       "      <td>2 in 1 Convertible</td>\n",
       "      <td>10.1</td>\n",
       "      <td>479.00</td>\n",
       "    </tr>\n",
       "  </tbody>\n",
       "</table>\n",
       "</div>"
      ],
      "text/plain": [
       "          Company            TypeName  Inches  Price_euros\n",
       "laptop_ID                                                 \n",
       "51         Lenovo  2 in 1 Convertible    10.1       319.00\n",
       "1097       Lenovo  2 in 1 Convertible    10.1       646.27\n",
       "1129       Lenovo  2 in 1 Convertible    10.1       549.00\n",
       "1141       Lenovo  2 in 1 Convertible    10.1       479.00"
      ]
     },
     "execution_count": 37,
     "metadata": {},
     "output_type": "execute_result"
    }
   ],
   "source": [
    "df[df['Inches'] == df['Inches'].min()][['Company','TypeName','Inches','Price_euros']]"
   ]
  },
  {
   "cell_type": "code",
   "execution_count": 38,
   "id": "dcfcce7a",
   "metadata": {},
   "outputs": [
    {
     "data": {
      "text/plain": [
       "4389.0"
      ]
     },
     "execution_count": 38,
     "metadata": {},
     "output_type": "execute_result"
    }
   ],
   "source": [
    "df[df['Company'] == 'HP']['Price_euros'].max()"
   ]
  },
  {
   "cell_type": "code",
   "execution_count": 39,
   "id": "d0641603",
   "metadata": {},
   "outputs": [
    {
     "data": {
      "text/plain": [
       "140"
      ]
     },
     "execution_count": 39,
     "metadata": {},
     "output_type": "execute_result"
    }
   ],
   "source": [
    "ultra8GB = df[(df['TypeName'] == 'Ultrabook') & (df['Ram'] == '8GB')].shape[0]\n",
    "ultra8GB"
   ]
  },
  {
   "cell_type": "code",
   "execution_count": 40,
   "id": "41858130",
   "metadata": {},
   "outputs": [
    {
     "data": {
      "text/plain": [
       "196"
      ]
     },
     "execution_count": 40,
     "metadata": {},
     "output_type": "execute_result"
    }
   ],
   "source": [
    "ultra = df[df['TypeName'] == 'Ultrabook'].shape[0]\n",
    "ultra"
   ]
  },
  {
   "cell_type": "code",
   "execution_count": 41,
   "id": "5d0e6386",
   "metadata": {},
   "outputs": [
    {
     "data": {
      "text/plain": [
       "71.43"
      ]
     },
     "execution_count": 41,
     "metadata": {},
     "output_type": "execute_result"
    }
   ],
   "source": [
    "round(ultra8GB/ultra*100,2)"
   ]
  },
  {
   "cell_type": "code",
   "execution_count": 42,
   "id": "615e9cb2",
   "metadata": {},
   "outputs": [
    {
     "data": {
      "text/plain": [
       "0.7142857142857143"
      ]
     },
     "execution_count": 42,
     "metadata": {},
     "output_type": "execute_result"
    }
   ],
   "source": [
    "df[df['TypeName'] == 'Ultrabook'].value_counts('Ram',normalize = True).loc['8GB']"
   ]
  },
  {
   "cell_type": "markdown",
   "id": "2389d888",
   "metadata": {},
   "source": [
    "## Задание 5\n",
    "### 5.1 Выберите ноутбук клиенту\n",
    "Клиент хочет подобрать ноутбук с 8GB или 16GB ОЗУ на Windows 10 в стоимости до 500 евро, сколько у него вариантов?<br>\n",
    "### 5.2 Выберите ноутбук клиенту\n",
    "Клиент хочет подобрать ноутбук от MSI, с видеокартой Nvidia GeForce GTX 1050 Ti и главное не с диагональю 15.6. В какой ценовой категории вышли подобные ноутбуки?<br>\n",
    "### 5.3 Что дешевле?\n",
    "В среднем дешевле ноутбуки с CPU Intel Core i7 7700HQ 2.8GHz или с Intel Core i7 7600U 2.8GHz?"
   ]
  },
  {
   "cell_type": "code",
   "execution_count": 43,
   "id": "65f3e95a",
   "metadata": {},
   "outputs": [
    {
     "data": {
      "text/html": [
       "<div>\n",
       "<style scoped>\n",
       "    .dataframe tbody tr th:only-of-type {\n",
       "        vertical-align: middle;\n",
       "    }\n",
       "\n",
       "    .dataframe tbody tr th {\n",
       "        vertical-align: top;\n",
       "    }\n",
       "\n",
       "    .dataframe thead th {\n",
       "        text-align: right;\n",
       "    }\n",
       "</style>\n",
       "<table border=\"1\" class=\"dataframe\">\n",
       "  <thead>\n",
       "    <tr style=\"text-align: right;\">\n",
       "      <th></th>\n",
       "      <th>Company</th>\n",
       "      <th>Product</th>\n",
       "      <th>TypeName</th>\n",
       "      <th>Inches</th>\n",
       "      <th>ScreenResolution</th>\n",
       "      <th>Cpu</th>\n",
       "      <th>Ram</th>\n",
       "      <th>Memory</th>\n",
       "      <th>Gpu</th>\n",
       "      <th>OpSys</th>\n",
       "      <th>Weight</th>\n",
       "      <th>Price_euros</th>\n",
       "    </tr>\n",
       "    <tr>\n",
       "      <th>laptop_ID</th>\n",
       "      <th></th>\n",
       "      <th></th>\n",
       "      <th></th>\n",
       "      <th></th>\n",
       "      <th></th>\n",
       "      <th></th>\n",
       "      <th></th>\n",
       "      <th></th>\n",
       "      <th></th>\n",
       "      <th></th>\n",
       "      <th></th>\n",
       "      <th></th>\n",
       "    </tr>\n",
       "  </thead>\n",
       "  <tbody>\n",
       "    <tr>\n",
       "      <th>76</th>\n",
       "      <td>Acer</td>\n",
       "      <td>Aspire E5-475</td>\n",
       "      <td>Notebook</td>\n",
       "      <td>14.0</td>\n",
       "      <td>1366x768</td>\n",
       "      <td>Intel Core i3 6006U 2GHz</td>\n",
       "      <td>8GB</td>\n",
       "      <td>1TB HDD</td>\n",
       "      <td>Intel HD Graphics 520</td>\n",
       "      <td>Windows 10</td>\n",
       "      <td>2.1kg</td>\n",
       "      <td>389.00</td>\n",
       "    </tr>\n",
       "    <tr>\n",
       "      <th>179</th>\n",
       "      <td>Dell</td>\n",
       "      <td>Inspiron 3567</td>\n",
       "      <td>Notebook</td>\n",
       "      <td>15.6</td>\n",
       "      <td>1366x768</td>\n",
       "      <td>Intel Core i3 7100U 2.4GHz</td>\n",
       "      <td>8GB</td>\n",
       "      <td>1TB HDD</td>\n",
       "      <td>Intel HD Graphics 620</td>\n",
       "      <td>Windows 10</td>\n",
       "      <td>2.3kg</td>\n",
       "      <td>459.00</td>\n",
       "    </tr>\n",
       "    <tr>\n",
       "      <th>261</th>\n",
       "      <td>HP</td>\n",
       "      <td>15-BW094nd (A6-9220/8GB/128GB/W10)</td>\n",
       "      <td>Notebook</td>\n",
       "      <td>15.6</td>\n",
       "      <td>1366x768</td>\n",
       "      <td>AMD A6-Series A6-9220 2.5GHz</td>\n",
       "      <td>8GB</td>\n",
       "      <td>128GB SSD</td>\n",
       "      <td>AMD Radeon R4 Graphics</td>\n",
       "      <td>Windows 10</td>\n",
       "      <td>1.91kg</td>\n",
       "      <td>445.90</td>\n",
       "    </tr>\n",
       "    <tr>\n",
       "      <th>297</th>\n",
       "      <td>HP</td>\n",
       "      <td>17-BS037cl (i3-6006U/8GB/1TB/W10)</td>\n",
       "      <td>Notebook</td>\n",
       "      <td>17.3</td>\n",
       "      <td>1600x900</td>\n",
       "      <td>Intel Core i3 6006U 2GHz</td>\n",
       "      <td>8GB</td>\n",
       "      <td>1TB HDD</td>\n",
       "      <td>Intel HD Graphics 520</td>\n",
       "      <td>Windows 10</td>\n",
       "      <td>2.54kg</td>\n",
       "      <td>489.00</td>\n",
       "    </tr>\n",
       "    <tr>\n",
       "      <th>318</th>\n",
       "      <td>Acer</td>\n",
       "      <td>ES1-523-84K7 (A8-7410/8GB/256GB/FHD/W10)</td>\n",
       "      <td>Notebook</td>\n",
       "      <td>15.6</td>\n",
       "      <td>Full HD 1920x1080</td>\n",
       "      <td>AMD A8-Series 7410 2.2GHz</td>\n",
       "      <td>8GB</td>\n",
       "      <td>256GB SSD</td>\n",
       "      <td>AMD Radeon R5</td>\n",
       "      <td>Windows 10</td>\n",
       "      <td>2.23kg</td>\n",
       "      <td>469.00</td>\n",
       "    </tr>\n",
       "    <tr>\n",
       "      <th>371</th>\n",
       "      <td>HP</td>\n",
       "      <td>15-AY023na (N3710/8GB/2TB/W10)</td>\n",
       "      <td>Notebook</td>\n",
       "      <td>15.6</td>\n",
       "      <td>1366x768</td>\n",
       "      <td>Intel Pentium Quad Core N3710 1.6GHz</td>\n",
       "      <td>8GB</td>\n",
       "      <td>2TB HDD</td>\n",
       "      <td>Intel HD Graphics 405</td>\n",
       "      <td>Windows 10</td>\n",
       "      <td>2.04kg</td>\n",
       "      <td>389.00</td>\n",
       "    </tr>\n",
       "    <tr>\n",
       "      <th>578</th>\n",
       "      <td>HP</td>\n",
       "      <td>14-am079na (N3710/8GB/2TB/W10)</td>\n",
       "      <td>Notebook</td>\n",
       "      <td>14.0</td>\n",
       "      <td>1366x768</td>\n",
       "      <td>Intel Pentium Quad Core N3710 1.6GHz</td>\n",
       "      <td>8GB</td>\n",
       "      <td>2TB HDD</td>\n",
       "      <td>Intel HD Graphics 405</td>\n",
       "      <td>Windows 10</td>\n",
       "      <td>1.94kg</td>\n",
       "      <td>389.00</td>\n",
       "    </tr>\n",
       "    <tr>\n",
       "      <th>602</th>\n",
       "      <td>Lenovo</td>\n",
       "      <td>IdeaPad 110-15ISK</td>\n",
       "      <td>Notebook</td>\n",
       "      <td>15.6</td>\n",
       "      <td>1366x768</td>\n",
       "      <td>Intel Core i3 6100U 2.3GHz</td>\n",
       "      <td>8GB</td>\n",
       "      <td>1TB HDD</td>\n",
       "      <td>Intel HD Graphics 520</td>\n",
       "      <td>Windows 10</td>\n",
       "      <td>2.29kg</td>\n",
       "      <td>459.00</td>\n",
       "    </tr>\n",
       "    <tr>\n",
       "      <th>642</th>\n",
       "      <td>Asus</td>\n",
       "      <td>X541NA-GO414T (N3350/8GB/1TB/W10)</td>\n",
       "      <td>Notebook</td>\n",
       "      <td>15.6</td>\n",
       "      <td>1366x768</td>\n",
       "      <td>Intel Celeron Dual Core N3350 1.1GHz</td>\n",
       "      <td>8GB</td>\n",
       "      <td>1TB HDD</td>\n",
       "      <td>Intel HD Graphics 500</td>\n",
       "      <td>Windows 10</td>\n",
       "      <td>2kg</td>\n",
       "      <td>399.00</td>\n",
       "    </tr>\n",
       "    <tr>\n",
       "      <th>710</th>\n",
       "      <td>Lenovo</td>\n",
       "      <td>IdeaPad 320-15ABR</td>\n",
       "      <td>Notebook</td>\n",
       "      <td>15.6</td>\n",
       "      <td>1366x768</td>\n",
       "      <td>AMD A12-Series 9720P 3.6GHz</td>\n",
       "      <td>8GB</td>\n",
       "      <td>1TB HDD</td>\n",
       "      <td>AMD Radeon R7</td>\n",
       "      <td>Windows 10</td>\n",
       "      <td>2.2kg</td>\n",
       "      <td>429.00</td>\n",
       "    </tr>\n",
       "    <tr>\n",
       "      <th>1071</th>\n",
       "      <td>Acer</td>\n",
       "      <td>Aspire ES1-523</td>\n",
       "      <td>Notebook</td>\n",
       "      <td>15.6</td>\n",
       "      <td>1366x768</td>\n",
       "      <td>AMD A8-Series 7410 2.2GHz</td>\n",
       "      <td>8GB</td>\n",
       "      <td>1TB HDD</td>\n",
       "      <td>AMD Radeon R5</td>\n",
       "      <td>Windows 10</td>\n",
       "      <td>2.4kg</td>\n",
       "      <td>449.00</td>\n",
       "    </tr>\n",
       "    <tr>\n",
       "      <th>1181</th>\n",
       "      <td>Lenovo</td>\n",
       "      <td>IdeaPad 310-15ISK</td>\n",
       "      <td>Notebook</td>\n",
       "      <td>15.6</td>\n",
       "      <td>1366x768</td>\n",
       "      <td>Intel Core i3 6006U 2.0GHz</td>\n",
       "      <td>8GB</td>\n",
       "      <td>1TB HDD</td>\n",
       "      <td>Intel HD Graphics 520</td>\n",
       "      <td>Windows 10</td>\n",
       "      <td>2.2kg</td>\n",
       "      <td>459.00</td>\n",
       "    </tr>\n",
       "    <tr>\n",
       "      <th>1250</th>\n",
       "      <td>Dell</td>\n",
       "      <td>Inspiron 3567</td>\n",
       "      <td>Notebook</td>\n",
       "      <td>15.6</td>\n",
       "      <td>Touchscreen 1366x768</td>\n",
       "      <td>Intel Core i3 7100U 2.4GHz</td>\n",
       "      <td>8GB</td>\n",
       "      <td>1TB HDD</td>\n",
       "      <td>Intel HD Graphics 620</td>\n",
       "      <td>Windows 10</td>\n",
       "      <td>2.3kg</td>\n",
       "      <td>469.01</td>\n",
       "    </tr>\n",
       "  </tbody>\n",
       "</table>\n",
       "</div>"
      ],
      "text/plain": [
       "          Company                                   Product  TypeName  Inches   \n",
       "laptop_ID                                                                       \n",
       "76           Acer                             Aspire E5-475  Notebook    14.0  \\\n",
       "179          Dell                             Inspiron 3567  Notebook    15.6   \n",
       "261            HP        15-BW094nd (A6-9220/8GB/128GB/W10)  Notebook    15.6   \n",
       "297            HP         17-BS037cl (i3-6006U/8GB/1TB/W10)  Notebook    17.3   \n",
       "318          Acer  ES1-523-84K7 (A8-7410/8GB/256GB/FHD/W10)  Notebook    15.6   \n",
       "371            HP            15-AY023na (N3710/8GB/2TB/W10)  Notebook    15.6   \n",
       "578            HP            14-am079na (N3710/8GB/2TB/W10)  Notebook    14.0   \n",
       "602        Lenovo                         IdeaPad 110-15ISK  Notebook    15.6   \n",
       "642          Asus         X541NA-GO414T (N3350/8GB/1TB/W10)  Notebook    15.6   \n",
       "710        Lenovo                         IdeaPad 320-15ABR  Notebook    15.6   \n",
       "1071         Acer                            Aspire ES1-523  Notebook    15.6   \n",
       "1181       Lenovo                         IdeaPad 310-15ISK  Notebook    15.6   \n",
       "1250         Dell                             Inspiron 3567  Notebook    15.6   \n",
       "\n",
       "               ScreenResolution                                   Cpu  Ram   \n",
       "laptop_ID                                                                    \n",
       "76                     1366x768              Intel Core i3 6006U 2GHz  8GB  \\\n",
       "179                    1366x768            Intel Core i3 7100U 2.4GHz  8GB   \n",
       "261                    1366x768          AMD A6-Series A6-9220 2.5GHz  8GB   \n",
       "297                    1600x900              Intel Core i3 6006U 2GHz  8GB   \n",
       "318           Full HD 1920x1080             AMD A8-Series 7410 2.2GHz  8GB   \n",
       "371                    1366x768  Intel Pentium Quad Core N3710 1.6GHz  8GB   \n",
       "578                    1366x768  Intel Pentium Quad Core N3710 1.6GHz  8GB   \n",
       "602                    1366x768            Intel Core i3 6100U 2.3GHz  8GB   \n",
       "642                    1366x768  Intel Celeron Dual Core N3350 1.1GHz  8GB   \n",
       "710                    1366x768           AMD A12-Series 9720P 3.6GHz  8GB   \n",
       "1071                   1366x768             AMD A8-Series 7410 2.2GHz  8GB   \n",
       "1181                   1366x768            Intel Core i3 6006U 2.0GHz  8GB   \n",
       "1250       Touchscreen 1366x768            Intel Core i3 7100U 2.4GHz  8GB   \n",
       "\n",
       "              Memory                     Gpu       OpSys  Weight  Price_euros  \n",
       "laptop_ID                                                                      \n",
       "76           1TB HDD   Intel HD Graphics 520  Windows 10   2.1kg       389.00  \n",
       "179          1TB HDD   Intel HD Graphics 620  Windows 10   2.3kg       459.00  \n",
       "261        128GB SSD  AMD Radeon R4 Graphics  Windows 10  1.91kg       445.90  \n",
       "297          1TB HDD   Intel HD Graphics 520  Windows 10  2.54kg       489.00  \n",
       "318        256GB SSD           AMD Radeon R5  Windows 10  2.23kg       469.00  \n",
       "371          2TB HDD   Intel HD Graphics 405  Windows 10  2.04kg       389.00  \n",
       "578          2TB HDD   Intel HD Graphics 405  Windows 10  1.94kg       389.00  \n",
       "602          1TB HDD   Intel HD Graphics 520  Windows 10  2.29kg       459.00  \n",
       "642          1TB HDD   Intel HD Graphics 500  Windows 10     2kg       399.00  \n",
       "710          1TB HDD           AMD Radeon R7  Windows 10   2.2kg       429.00  \n",
       "1071         1TB HDD           AMD Radeon R5  Windows 10   2.4kg       449.00  \n",
       "1181         1TB HDD   Intel HD Graphics 520  Windows 10   2.2kg       459.00  \n",
       "1250         1TB HDD   Intel HD Graphics 620  Windows 10   2.3kg       469.01  "
      ]
     },
     "execution_count": 43,
     "metadata": {},
     "output_type": "execute_result"
    }
   ],
   "source": [
    "df[(df['Ram'].isin(['8GB','16GB'])) & (df['OpSys'] == 'Windows 10') & (df['Price_euros'] < 500)]"
   ]
  },
  {
   "cell_type": "code",
   "execution_count": 44,
   "id": "c88375f1",
   "metadata": {},
   "outputs": [
    {
     "data": {
      "text/plain": [
       "13"
      ]
     },
     "execution_count": 44,
     "metadata": {},
     "output_type": "execute_result"
    }
   ],
   "source": [
    "df[(df['Ram'].isin(['8GB','16GB'])) & (df['OpSys'] == 'Windows 10') & (df['Price_euros'] < 500)].shape[0]"
   ]
  },
  {
   "cell_type": "markdown",
   "id": "53218710",
   "metadata": {},
   "source": [
    "Клиент хочет подобрать ноутбук от MSI, с видеокартой Nvidia GeForce GTX 1050 Ti и главное не с диагональю 15.6. В какой ценовой категории вышли подобные ноутбуки?"
   ]
  },
  {
   "cell_type": "code",
   "execution_count": 45,
   "id": "7b72987c",
   "metadata": {},
   "outputs": [
    {
     "data": {
      "text/html": [
       "<div>\n",
       "<style scoped>\n",
       "    .dataframe tbody tr th:only-of-type {\n",
       "        vertical-align: middle;\n",
       "    }\n",
       "\n",
       "    .dataframe tbody tr th {\n",
       "        vertical-align: top;\n",
       "    }\n",
       "\n",
       "    .dataframe thead th {\n",
       "        text-align: right;\n",
       "    }\n",
       "</style>\n",
       "<table border=\"1\" class=\"dataframe\">\n",
       "  <thead>\n",
       "    <tr style=\"text-align: right;\">\n",
       "      <th></th>\n",
       "      <th>Company</th>\n",
       "      <th>Product</th>\n",
       "      <th>TypeName</th>\n",
       "      <th>Inches</th>\n",
       "      <th>ScreenResolution</th>\n",
       "      <th>Cpu</th>\n",
       "      <th>Ram</th>\n",
       "      <th>Memory</th>\n",
       "      <th>Gpu</th>\n",
       "      <th>OpSys</th>\n",
       "      <th>Weight</th>\n",
       "      <th>Price_euros</th>\n",
       "    </tr>\n",
       "    <tr>\n",
       "      <th>laptop_ID</th>\n",
       "      <th></th>\n",
       "      <th></th>\n",
       "      <th></th>\n",
       "      <th></th>\n",
       "      <th></th>\n",
       "      <th></th>\n",
       "      <th></th>\n",
       "      <th></th>\n",
       "      <th></th>\n",
       "      <th></th>\n",
       "      <th></th>\n",
       "      <th></th>\n",
       "    </tr>\n",
       "  </thead>\n",
       "  <tbody>\n",
       "    <tr>\n",
       "      <th>336</th>\n",
       "      <td>MSI</td>\n",
       "      <td>GL72M 7REX</td>\n",
       "      <td>Gaming</td>\n",
       "      <td>17.3</td>\n",
       "      <td>Full HD 1920x1080</td>\n",
       "      <td>Intel Core i7 7700HQ 2.8GHz</td>\n",
       "      <td>8GB</td>\n",
       "      <td>256GB SSD +  1TB HDD</td>\n",
       "      <td>Nvidia GeForce GTX 1050 Ti</td>\n",
       "      <td>Windows 10</td>\n",
       "      <td>2.7kg</td>\n",
       "      <td>1199.00</td>\n",
       "    </tr>\n",
       "    <tr>\n",
       "      <th>400</th>\n",
       "      <td>MSI</td>\n",
       "      <td>Leopard GP72M</td>\n",
       "      <td>Gaming</td>\n",
       "      <td>17.3</td>\n",
       "      <td>Full HD 1920x1080</td>\n",
       "      <td>Intel Core i7 7700HQ 2.8GHz</td>\n",
       "      <td>8GB</td>\n",
       "      <td>256GB SSD</td>\n",
       "      <td>Nvidia GeForce GTX 1050 Ti</td>\n",
       "      <td>Windows 10</td>\n",
       "      <td>2.7kg</td>\n",
       "      <td>1349.00</td>\n",
       "    </tr>\n",
       "    <tr>\n",
       "      <th>732</th>\n",
       "      <td>MSI</td>\n",
       "      <td>GL72M 7REX</td>\n",
       "      <td>Gaming</td>\n",
       "      <td>17.3</td>\n",
       "      <td>Full HD 1920x1080</td>\n",
       "      <td>Intel Core i7 7700HQ 2.8GHz</td>\n",
       "      <td>8GB</td>\n",
       "      <td>128GB SSD +  1TB HDD</td>\n",
       "      <td>Nvidia GeForce GTX 1050 Ti</td>\n",
       "      <td>Windows 10</td>\n",
       "      <td>2.7kg</td>\n",
       "      <td>1348.48</td>\n",
       "    </tr>\n",
       "    <tr>\n",
       "      <th>931</th>\n",
       "      <td>MSI</td>\n",
       "      <td>GE72VR 6RF</td>\n",
       "      <td>Gaming</td>\n",
       "      <td>17.3</td>\n",
       "      <td>Full HD 1920x1080</td>\n",
       "      <td>Intel Core i7 7700HQ 2.8GHz</td>\n",
       "      <td>16GB</td>\n",
       "      <td>256GB SSD +  1TB HDD</td>\n",
       "      <td>Nvidia GeForce GTX 1050 Ti</td>\n",
       "      <td>Windows 10</td>\n",
       "      <td>2.7kg</td>\n",
       "      <td>1599.00</td>\n",
       "    </tr>\n",
       "    <tr>\n",
       "      <th>1174</th>\n",
       "      <td>MSI</td>\n",
       "      <td>GP72M 7REX</td>\n",
       "      <td>Gaming</td>\n",
       "      <td>17.3</td>\n",
       "      <td>Full HD 1920x1080</td>\n",
       "      <td>Intel Core i7 7700HQ 2.8GHz</td>\n",
       "      <td>16GB</td>\n",
       "      <td>256GB SSD +  1TB HDD</td>\n",
       "      <td>Nvidia GeForce GTX 1050 Ti</td>\n",
       "      <td>Windows 10</td>\n",
       "      <td>2.7kg</td>\n",
       "      <td>1492.80</td>\n",
       "    </tr>\n",
       "  </tbody>\n",
       "</table>\n",
       "</div>"
      ],
      "text/plain": [
       "          Company        Product TypeName  Inches   ScreenResolution   \n",
       "laptop_ID                                                              \n",
       "336           MSI     GL72M 7REX   Gaming    17.3  Full HD 1920x1080  \\\n",
       "400           MSI  Leopard GP72M   Gaming    17.3  Full HD 1920x1080   \n",
       "732           MSI     GL72M 7REX   Gaming    17.3  Full HD 1920x1080   \n",
       "931           MSI     GE72VR 6RF   Gaming    17.3  Full HD 1920x1080   \n",
       "1174          MSI     GP72M 7REX   Gaming    17.3  Full HD 1920x1080   \n",
       "\n",
       "                                   Cpu   Ram                Memory   \n",
       "laptop_ID                                                            \n",
       "336        Intel Core i7 7700HQ 2.8GHz   8GB  256GB SSD +  1TB HDD  \\\n",
       "400        Intel Core i7 7700HQ 2.8GHz   8GB             256GB SSD   \n",
       "732        Intel Core i7 7700HQ 2.8GHz   8GB  128GB SSD +  1TB HDD   \n",
       "931        Intel Core i7 7700HQ 2.8GHz  16GB  256GB SSD +  1TB HDD   \n",
       "1174       Intel Core i7 7700HQ 2.8GHz  16GB  256GB SSD +  1TB HDD   \n",
       "\n",
       "                                  Gpu       OpSys Weight  Price_euros  \n",
       "laptop_ID                                                              \n",
       "336        Nvidia GeForce GTX 1050 Ti  Windows 10  2.7kg      1199.00  \n",
       "400        Nvidia GeForce GTX 1050 Ti  Windows 10  2.7kg      1349.00  \n",
       "732        Nvidia GeForce GTX 1050 Ti  Windows 10  2.7kg      1348.48  \n",
       "931        Nvidia GeForce GTX 1050 Ti  Windows 10  2.7kg      1599.00  \n",
       "1174       Nvidia GeForce GTX 1050 Ti  Windows 10  2.7kg      1492.80  "
      ]
     },
     "execution_count": 45,
     "metadata": {},
     "output_type": "execute_result"
    }
   ],
   "source": [
    "client = df[(df['Company'] == 'MSI') & (df['Gpu'] == 'Nvidia GeForce GTX 1050 Ti') & ~(df['Inches'] == 15.6)]\n",
    "client"
   ]
  },
  {
   "cell_type": "code",
   "execution_count": 46,
   "id": "5131fd0f",
   "metadata": {},
   "outputs": [
    {
     "data": {
      "text/plain": [
       "(1199.0, 1599.0)"
      ]
     },
     "execution_count": 46,
     "metadata": {},
     "output_type": "execute_result"
    }
   ],
   "source": [
    "client['Price_euros'].min(),client['Price_euros'].max()"
   ]
  },
  {
   "cell_type": "markdown",
   "id": "e310dda0",
   "metadata": {},
   "source": [
    "В среднем дешевле ноутбуки с CPU Intel Core i7 7700HQ 2.8GHz или с Intel Core i7 7600U 2.8GHz?"
   ]
  },
  {
   "cell_type": "code",
   "execution_count": 47,
   "id": "213081b8",
   "metadata": {},
   "outputs": [
    {
     "data": {
      "text/plain": [
       "1760.4084246575342"
      ]
     },
     "execution_count": 47,
     "metadata": {},
     "output_type": "execute_result"
    }
   ],
   "source": [
    "df[df['Cpu'] == 'Intel Core i7 7700HQ 2.8GHz']['Price_euros'].mean()"
   ]
  },
  {
   "cell_type": "code",
   "execution_count": 48,
   "id": "5747bb49",
   "metadata": {},
   "outputs": [
    {
     "data": {
      "text/plain": [
       "1915.710769230769"
      ]
     },
     "execution_count": 48,
     "metadata": {},
     "output_type": "execute_result"
    }
   ],
   "source": [
    "df[df['Cpu'] == 'Intel Core i7 7600U 2.8GHz']['Price_euros'].mean()"
   ]
  },
  {
   "cell_type": "markdown",
   "id": "6a08e92e",
   "metadata": {},
   "source": [
    "### Задание 6\n",
    "Найдите самый легкий ноутбук\n",
    "Но обратите внимание на тип и представление данных в признаке Weight, если что, замените в строке 'kg' на пустую строку через метод .str.replace()"
   ]
  },
  {
   "cell_type": "code",
   "execution_count": 49,
   "id": "49b53be2",
   "metadata": {},
   "outputs": [
    {
     "data": {
      "text/html": [
       "<div>\n",
       "<style scoped>\n",
       "    .dataframe tbody tr th:only-of-type {\n",
       "        vertical-align: middle;\n",
       "    }\n",
       "\n",
       "    .dataframe tbody tr th {\n",
       "        vertical-align: top;\n",
       "    }\n",
       "\n",
       "    .dataframe thead th {\n",
       "        text-align: right;\n",
       "    }\n",
       "</style>\n",
       "<table border=\"1\" class=\"dataframe\">\n",
       "  <thead>\n",
       "    <tr style=\"text-align: right;\">\n",
       "      <th></th>\n",
       "      <th>Company</th>\n",
       "      <th>Product</th>\n",
       "      <th>TypeName</th>\n",
       "      <th>Inches</th>\n",
       "      <th>ScreenResolution</th>\n",
       "      <th>Cpu</th>\n",
       "      <th>Ram</th>\n",
       "      <th>Memory</th>\n",
       "      <th>Gpu</th>\n",
       "      <th>OpSys</th>\n",
       "      <th>Weight</th>\n",
       "      <th>Price_euros</th>\n",
       "    </tr>\n",
       "    <tr>\n",
       "      <th>laptop_ID</th>\n",
       "      <th></th>\n",
       "      <th></th>\n",
       "      <th></th>\n",
       "      <th></th>\n",
       "      <th></th>\n",
       "      <th></th>\n",
       "      <th></th>\n",
       "      <th></th>\n",
       "      <th></th>\n",
       "      <th></th>\n",
       "      <th></th>\n",
       "      <th></th>\n",
       "    </tr>\n",
       "  </thead>\n",
       "  <tbody>\n",
       "    <tr>\n",
       "      <th>1</th>\n",
       "      <td>Apple</td>\n",
       "      <td>MacBook Pro</td>\n",
       "      <td>Ultrabook</td>\n",
       "      <td>13.3</td>\n",
       "      <td>IPS Panel Retina Display 2560x1600</td>\n",
       "      <td>Intel Core i5 2.3GHz</td>\n",
       "      <td>8GB</td>\n",
       "      <td>128GB SSD</td>\n",
       "      <td>Intel Iris Plus Graphics 640</td>\n",
       "      <td>macOS</td>\n",
       "      <td>1.37kg</td>\n",
       "      <td>1339.69</td>\n",
       "    </tr>\n",
       "    <tr>\n",
       "      <th>2</th>\n",
       "      <td>Apple</td>\n",
       "      <td>Macbook Air</td>\n",
       "      <td>Ultrabook</td>\n",
       "      <td>13.3</td>\n",
       "      <td>1440x900</td>\n",
       "      <td>Intel Core i5 1.8GHz</td>\n",
       "      <td>8GB</td>\n",
       "      <td>128GB Flash Storage</td>\n",
       "      <td>Intel HD Graphics 6000</td>\n",
       "      <td>macOS</td>\n",
       "      <td>1.34kg</td>\n",
       "      <td>898.94</td>\n",
       "    </tr>\n",
       "  </tbody>\n",
       "</table>\n",
       "</div>"
      ],
      "text/plain": [
       "          Company      Product   TypeName  Inches   \n",
       "laptop_ID                                           \n",
       "1           Apple  MacBook Pro  Ultrabook    13.3  \\\n",
       "2           Apple  Macbook Air  Ultrabook    13.3   \n",
       "\n",
       "                             ScreenResolution                   Cpu  Ram   \n",
       "laptop_ID                                                                  \n",
       "1          IPS Panel Retina Display 2560x1600  Intel Core i5 2.3GHz  8GB  \\\n",
       "2                                    1440x900  Intel Core i5 1.8GHz  8GB   \n",
       "\n",
       "                        Memory                           Gpu  OpSys  Weight   \n",
       "laptop_ID                                                                     \n",
       "1                    128GB SSD  Intel Iris Plus Graphics 640  macOS  1.37kg  \\\n",
       "2          128GB Flash Storage        Intel HD Graphics 6000  macOS  1.34kg   \n",
       "\n",
       "           Price_euros  \n",
       "laptop_ID               \n",
       "1              1339.69  \n",
       "2               898.94  "
      ]
     },
     "execution_count": 49,
     "metadata": {},
     "output_type": "execute_result"
    }
   ],
   "source": [
    "df.head(2)"
   ]
  },
  {
   "cell_type": "code",
   "execution_count": 50,
   "id": "afe88a3e",
   "metadata": {},
   "outputs": [],
   "source": [
    "df['Weight'] = df['Weight'].str.replace('kg','').astype('float')"
   ]
  },
  {
   "cell_type": "code",
   "execution_count": 51,
   "id": "545a568c",
   "metadata": {},
   "outputs": [
    {
     "data": {
      "text/plain": [
       "0.69"
      ]
     },
     "execution_count": 51,
     "metadata": {},
     "output_type": "execute_result"
    }
   ],
   "source": [
    "df['Weight'].min()"
   ]
  },
  {
   "cell_type": "code",
   "execution_count": null,
   "id": "4a8020fe",
   "metadata": {},
   "outputs": [],
   "source": []
  }
 ],
 "metadata": {
  "kernelspec": {
   "display_name": "Python 3 (ipykernel)",
   "language": "python",
   "name": "python3"
  },
  "language_info": {
   "codemirror_mode": {
    "name": "ipython",
    "version": 3
   },
   "file_extension": ".py",
   "mimetype": "text/x-python",
   "name": "python",
   "nbconvert_exporter": "python",
   "pygments_lexer": "ipython3",
   "version": "3.11.3"
  }
 },
 "nbformat": 4,
 "nbformat_minor": 5
}
