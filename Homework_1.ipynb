{
 "cells": [
  {
   "cell_type": "markdown",
   "id": "c0e13919",
   "metadata": {},
   "source": [
    "## Задача 1\n"
   ]
  },
  {
   "cell_type": "markdown",
   "id": "da0e0e9e",
   "metadata": {},
   "source": [
    "На складе лежат разные фрукты в разном количестве.\n",
    "Нужно написать функцию, которая на вход принимает любое количество названий фруктов и их количество, а возвращает общее количество фруктов на складе"
   ]
  },
  {
   "cell_type": "code",
   "execution_count": 34,
   "id": "ddcd60e9",
   "metadata": {},
   "outputs": [],
   "source": [
    "fruits_dict = {\n",
    "    'яблоки': 16, \n",
    "    'бананы': 22, \n",
    "    'апельсины': 44, \n",
    "    'мандарины': 80\n",
    "}\n"
   ]
  },
  {
   "cell_type": "markdown",
   "id": "b61aaf3d",
   "metadata": {},
   "source": [
    "### Решение функцией "
   ]
  },
  {
   "cell_type": "code",
   "execution_count": null,
   "id": "318ef2df",
   "metadata": {},
   "outputs": [],
   "source": [
    "def create_dict(fruits_dict: dict, keys: list=['яблоки','бананы']) -> int:\n",
    "    result = {}\n",
    "    for i in keys:\n",
    "        result[i] = fruits_dict[i]\n",
    "    fruits_sum = sum(result.values())\n",
    "    return fruits_sum\n",
    "    \n",
    "create_dict(fruits_dict)"
   ]
  },
  {
   "cell_type": "markdown",
   "id": "3985fb65",
   "metadata": {},
   "source": [
    "### Решение dict comprehensions"
   ]
  },
  {
   "cell_type": "code",
   "execution_count": 38,
   "id": "40d542f0",
   "metadata": {},
   "outputs": [
    {
     "data": {
      "text/plain": [
       "{'яблоки': 16, 'бананы': 22}"
      ]
     },
     "execution_count": 38,
     "metadata": {},
     "output_type": "execute_result"
    }
   ],
   "source": [
    "keys=['яблоки','бананы']\n",
    "new_dict = {i: fruits_dict[i] for i in keys}\n",
    "new_dict\n"
   ]
  },
  {
   "cell_type": "code",
   "execution_count": 39,
   "id": "aed04d29",
   "metadata": {},
   "outputs": [
    {
     "data": {
      "text/plain": [
       "38"
      ]
     },
     "execution_count": 39,
     "metadata": {},
     "output_type": "execute_result"
    }
   ],
   "source": [
    "fruits_sum = sum(new_dict.values())\n",
    "fruits_sum"
   ]
  },
  {
   "cell_type": "markdown",
   "id": "ae70556b",
   "metadata": {},
   "source": [
    "## Задача 2\n"
   ]
  },
  {
   "cell_type": "markdown",
   "id": "97c249ac",
   "metadata": {},
   "source": [
    "Дан список с затратами на рекламу. Но в данных есть ошибки, некоторые затраты имеют отрицательную величину. Удалите такие значения из списка и посчитайте суммарные затраты\n",
    "[100, 125, -90, 345, 655, -1, 0, 200]\n",
    "Используйте list comprehensions"
   ]
  },
  {
   "cell_type": "code",
   "execution_count": 49,
   "id": "dbbef08f",
   "metadata": {},
   "outputs": [
    {
     "data": {
      "text/plain": [
       "[100, 125, -90, 345, 655, -1, 0, 200]"
      ]
     },
     "execution_count": 49,
     "metadata": {},
     "output_type": "execute_result"
    }
   ],
   "source": [
    "my_list=[100, 125, -90, 345, 655, -1, 0, 200]\n",
    "my_list\n"
   ]
  },
  {
   "cell_type": "code",
   "execution_count": 47,
   "id": "aa834600",
   "metadata": {},
   "outputs": [
    {
     "data": {
      "text/plain": [
       "[100, 125, 345, 655, 200]"
      ]
     },
     "execution_count": 47,
     "metadata": {},
     "output_type": "execute_result"
    }
   ],
   "source": [
    "positive_list = [n for n in my_list if n>0]\n",
    "positive_list"
   ]
  },
  {
   "cell_type": "code",
   "execution_count": 51,
   "id": "9e331c98",
   "metadata": {},
   "outputs": [
    {
     "data": {
      "text/plain": [
       "1425"
      ]
     },
     "execution_count": 51,
     "metadata": {},
     "output_type": "execute_result"
    }
   ],
   "source": [
    "result = sum(positive_list)\n",
    "result"
   ]
  },
  {
   "cell_type": "markdown",
   "id": "afe57825",
   "metadata": {},
   "source": [
    "## Задача 3.1"
   ]
  },
  {
   "cell_type": "markdown",
   "id": "94369539",
   "metadata": {},
   "source": [
    "Даны два списка.\n",
    "Дата покупки\n",
    "['2021-09-14', '2021-12-15', '2021-09-08', '2021-12-05', '2021-10-09', '2021-09-30', '2021-12-22', '2021-11-29', '2021-12-24', '2021-11-26', '2021-10-27', '2021-12-18', '2021-11-09', '2021-11-23', '2021-09-27', '2021-10-02', '2021-12-27', '2021-09-20', '2021-12-13', '2021-11-01', '2021-11-09', '2021-12-06', '2021-12-08', '2021-10-09', '2021-10-31', '2021-09-30', '2021-11-09', '2021-12-13', '2021-10-26', '2021-12-09']\n",
    "Суммы покупок по датам\n",
    "[1270, 8413, 9028, 3703, 5739, 4095, 295, 4944, 5723, 3701, 4471, 651, 7037, 4274, 6275, 4988, 6930, 2971, 6592, 2004, 2822, 519, 3406, 2732, 5015, 2008, 316, 6333, 5700, 2887]\n",
    "4.1 Найдите, какая выручка у компании в ноябре"
   ]
  }
 ],
 "metadata": {
  "kernelspec": {
   "display_name": "Python 3 (ipykernel)",
   "language": "python",
   "name": "python3"
  },
  "language_info": {
   "codemirror_mode": {
    "name": "ipython",
    "version": 3
   },
   "file_extension": ".py",
   "mimetype": "text/x-python",
   "name": "python",
   "nbconvert_exporter": "python",
   "pygments_lexer": "ipython3",
   "version": "3.10.9"
  }
 },
 "nbformat": 4,
 "nbformat_minor": 5
}
