{
 "cells": [
  {
   "cell_type": "markdown",
   "id": "c0e13919",
   "metadata": {},
   "source": [
    "## Задача 1\n"
   ]
  },
  {
   "cell_type": "markdown",
   "id": "da0e0e9e",
   "metadata": {},
   "source": [
    "На складе лежат разные фрукты в разном количестве.\n",
    "Нужно написать функцию, которая на вход принимает любое количество названий фруктов и их количество, а возвращает общее количество фруктов на складе"
   ]
  },
  {
   "cell_type": "code",
   "execution_count": 34,
   "id": "ddcd60e9",
   "metadata": {},
   "outputs": [],
   "source": [
    "fruits_dict = {\n",
    "    'яблоки': 16, \n",
    "    'бананы': 22, \n",
    "    'апельсины': 44, \n",
    "    'мандарины': 80\n",
    "}\n"
   ]
  },
  {
   "cell_type": "markdown",
   "id": "b61aaf3d",
   "metadata": {},
   "source": [
    "### Решение функцией "
   ]
  },
  {
   "cell_type": "code",
   "execution_count": null,
   "id": "318ef2df",
   "metadata": {},
   "outputs": [],
   "source": [
    "def create_dict(fruits_dict: dict, keys: list=['яблоки','бананы']) -> int:\n",
    "    result = {}\n",
    "    for i in keys:\n",
    "        result[i] = fruits_dict[i]\n",
    "    fruits_sum = sum(result.values())\n",
    "    return fruits_sum\n",
    "    \n",
    "create_dict(fruits_dict)"
   ]
  },
  {
   "cell_type": "markdown",
   "id": "3985fb65",
   "metadata": {},
   "source": [
    "### Решение dict comprehensions"
   ]
  },
  {
   "cell_type": "code",
   "execution_count": 38,
   "id": "40d542f0",
   "metadata": {},
   "outputs": [
    {
     "data": {
      "text/plain": [
       "{'яблоки': 16, 'бананы': 22}"
      ]
     },
     "execution_count": 38,
     "metadata": {},
     "output_type": "execute_result"
    }
   ],
   "source": [
    "keys=['яблоки','бананы']\n",
    "new_dict = {i: fruits_dict[i] for i in keys}\n",
    "new_dict\n"
   ]
  },
  {
   "cell_type": "code",
   "execution_count": 39,
   "id": "aed04d29",
   "metadata": {},
   "outputs": [
    {
     "data": {
      "text/plain": [
       "38"
      ]
     },
     "execution_count": 39,
     "metadata": {},
     "output_type": "execute_result"
    }
   ],
   "source": [
    "fruits_sum = sum(new_dict.values())\n",
    "fruits_sum"
   ]
  },
  {
   "cell_type": "markdown",
   "id": "ae70556b",
   "metadata": {},
   "source": [
    "## Задача 2\n"
   ]
  },
  {
   "cell_type": "markdown",
   "id": "97c249ac",
   "metadata": {},
   "source": [
    "Дан список с затратами на рекламу. Но в данных есть ошибки, некоторые затраты имеют отрицательную величину. Удалите такие значения из списка и посчитайте суммарные затраты\n",
    "[100, 125, -90, 345, 655, -1, 0, 200]\n",
    "Используйте list comprehensions"
   ]
  },
  {
   "cell_type": "code",
   "execution_count": 49,
   "id": "dbbef08f",
   "metadata": {},
   "outputs": [
    {
     "data": {
      "text/plain": [
       "[100, 125, -90, 345, 655, -1, 0, 200]"
      ]
     },
     "execution_count": 49,
     "metadata": {},
     "output_type": "execute_result"
    }
   ],
   "source": [
    "my_list=[100, 125, -90, 345, 655, -1, 0, 200]\n",
    "my_list\n"
   ]
  },
  {
   "cell_type": "code",
   "execution_count": 47,
   "id": "aa834600",
   "metadata": {},
   "outputs": [
    {
     "data": {
      "text/plain": [
       "[100, 125, 345, 655, 200]"
      ]
     },
     "execution_count": 47,
     "metadata": {},
     "output_type": "execute_result"
    }
   ],
   "source": [
    "positive_list = [n for n in my_list if n>0]\n",
    "positive_list"
   ]
  },
  {
   "cell_type": "code",
   "execution_count": 51,
   "id": "9e331c98",
   "metadata": {},
   "outputs": [
    {
     "data": {
      "text/plain": [
       "1425"
      ]
     },
     "execution_count": 51,
     "metadata": {},
     "output_type": "execute_result"
    }
   ],
   "source": [
    "result = sum(positive_list)\n",
    "result"
   ]
  },
  {
   "cell_type": "code",
   "execution_count": null,
   "id": "afe57825",
   "metadata": {},
   "outputs": [],
   "source": []
  }
 ],
 "metadata": {
  "kernelspec": {
   "display_name": "Python 3 (ipykernel)",
   "language": "python",
   "name": "python3"
  },
  "language_info": {
   "codemirror_mode": {
    "name": "ipython",
    "version": 3
   },
   "file_extension": ".py",
   "mimetype": "text/x-python",
   "name": "python",
   "nbconvert_exporter": "python",
   "pygments_lexer": "ipython3",
   "version": "3.10.9"
  }
 },
 "nbformat": 4,
 "nbformat_minor": 5
}
