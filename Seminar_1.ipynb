{
 "cells": [
  {
   "cell_type": "markdown",
   "id": "7d9a58d3",
   "metadata": {},
   "source": [
    "1.1 Соедините два словаря в один\n",
    "\n",
    "\n",
    "1.2 Напишите функцию, которая на вход принимает два словаря и возвращает один объединенный словарь\n",
    "Используйте аннотирование типов"
   ]
  },
  {
   "cell_type": "code",
   "execution_count": 3,
   "id": "471ad266",
   "metadata": {},
   "outputs": [],
   "source": [
    "dict1 = {'One': 1, 'Two': 2, 'Three': 3}\n",
    "dict2 = {'Four': 4, 'Five': 5, 'Six': 6}"
   ]
  },
  {
   "cell_type": "code",
   "execution_count": 6,
   "id": "60cf818c",
   "metadata": {},
   "outputs": [
    {
     "data": {
      "text/plain": [
       "{'One': 1, 'Two': 2, 'Three': 3, 'Four': 4, 'Five': 5, 'Six': 6}"
      ]
     },
     "execution_count": 6,
     "metadata": {},
     "output_type": "execute_result"
    }
   ],
   "source": [
    "d = {**dict1,**dict2}\n",
    "d"
   ]
  },
  {
   "cell_type": "markdown",
   "id": "778004ed",
   "metadata": {},
   "source": [
    "d.update(d_other) - позволяет дополнять данные словаря или обновлять их (в аргументе должен быть другой словарь)\n",
    "d3 = d1 | d2 - позволяет сложить два словаря и сохранить в новый словарь\n",
    "d3 = {**d1, **d2}"
   ]
  },
  {
   "cell_type": "code",
   "execution_count": 7,
   "id": "2050fd4f",
   "metadata": {},
   "outputs": [
    {
     "data": {
      "text/plain": [
       "{'One': 1, 'Two': 2, 'Three': 3, 'Four': 4, 'Five': 5, 'Six': 6}"
      ]
     },
     "execution_count": 7,
     "metadata": {},
     "output_type": "execute_result"
    }
   ],
   "source": [
    "d1 = {}\n",
    "d1.update(dict1)\n",
    "d1.update(dict2)\n",
    "d1"
   ]
  },
  {
   "cell_type": "code",
   "execution_count": 8,
   "id": "2f118889",
   "metadata": {},
   "outputs": [],
   "source": [
    "d3 = dict1|dict2"
   ]
  },
  {
   "cell_type": "code",
   "execution_count": 9,
   "id": "c7c32ee4",
   "metadata": {},
   "outputs": [
    {
     "data": {
      "text/plain": [
       "{'One': 1, 'Two': 2, 'Three': 3, 'Four': 4, 'Five': 5, 'Six': 6}"
      ]
     },
     "execution_count": 9,
     "metadata": {},
     "output_type": "execute_result"
    }
   ],
   "source": [
    "d3"
   ]
  },
  {
   "cell_type": "code",
   "execution_count": 12,
   "id": "9f37f3e2",
   "metadata": {},
   "outputs": [],
   "source": [
    "def dict_merge(d1:dict,d2:dict) -> dict:\n",
    "    return {**d1,**d2}"
   ]
  },
  {
   "cell_type": "code",
   "execution_count": 14,
   "id": "485ca1f0",
   "metadata": {},
   "outputs": [
    {
     "data": {
      "text/plain": [
       "{'One': 1, 'Two': 2, 'Three': 3, 'Four': 4, 'Five': 5, 'Six': 6}"
      ]
     },
     "execution_count": 14,
     "metadata": {},
     "output_type": "execute_result"
    }
   ],
   "source": [
    "dict_merge(dict1, dict2)"
   ]
  },
  {
   "cell_type": "markdown",
   "id": "9ecc2961",
   "metadata": {},
   "source": [
    "## Задание 2\n",
    "Hапишите функцию, которая из двух списков, делает один словарь, где элементы из первого списка - ключи, а элементы из второго списка - значения\n",
    "keys = ['One', 'Two', 'Three']\n",
    "values = [1, 2, 3]\n",
    "\n",
    "\n",
    "Используйте аннотирование типов\n",
    "\n"
   ]
  },
  {
   "cell_type": "markdown",
   "id": "53d26624",
   "metadata": {},
   "source": [
    "### 2.1 Используя цикл for\n",
    "\n",
    "### 2.2 Используя dict comprehensions"
   ]
  },
  {
   "cell_type": "code",
   "execution_count": 15,
   "id": "4143a5f0",
   "metadata": {},
   "outputs": [],
   "source": [
    "keys = ['One', 'Two', 'Three']\n",
    "values = [1, 2, 3]\n"
   ]
  },
  {
   "cell_type": "code",
   "execution_count": 16,
   "id": "16ff1006",
   "metadata": {},
   "outputs": [],
   "source": [
    "def dict_write(k:list, v:list) -> dict:\n",
    "    d = {}\n",
    "    for i in range(len(k)):\n",
    "        d[k[i]]=v[i]\n",
    "    return d"
   ]
  },
  {
   "cell_type": "code",
   "execution_count": 18,
   "id": "771538b5",
   "metadata": {},
   "outputs": [
    {
     "data": {
      "text/plain": [
       "{'One': 1, 'Two': 2, 'Three': 3}"
      ]
     },
     "execution_count": 18,
     "metadata": {},
     "output_type": "execute_result"
    }
   ],
   "source": [
    "new_dict = dict_write(keys, values)\n",
    "new_dict"
   ]
  },
  {
   "cell_type": "code",
   "execution_count": 19,
   "id": "4d2335a7",
   "metadata": {},
   "outputs": [],
   "source": [
    "def dict_com(k: list, v: list) -> dict:\n",
    "    new_dict = {k[i]: v[i] for i in range(len(k))}\n",
    "    return new_dict"
   ]
  },
  {
   "cell_type": "code",
   "execution_count": 20,
   "id": "0b100437",
   "metadata": {},
   "outputs": [
    {
     "data": {
      "text/plain": [
       "{'One': 1, 'Two': 2, 'Three': 3}"
      ]
     },
     "execution_count": 20,
     "metadata": {},
     "output_type": "execute_result"
    }
   ],
   "source": [
    "val = dict_com(keys, values)\n",
    "val"
   ]
  },
  {
   "cell_type": "markdown",
   "id": "68520bd8",
   "metadata": {},
   "source": [
    "### Задание 3\n",
    "Извлеките только два ключа name и age из представленного словаря\n",
    "\n",
    "\n"
   ]
  },
  {
   "cell_type": "code",
   "execution_count": 21,
   "id": "d53534e0",
   "metadata": {},
   "outputs": [],
   "source": [
    "client_dict = {\n",
    "\t\"name\": \"John\",\n",
    "\t\"age\": 25,\n",
    "\t\"salary\": 5000,\n",
    "\t\"city\": \"Moscow\"\n",
    "}"
   ]
  },
  {
   "cell_type": "markdown",
   "id": "9483639a",
   "metadata": {},
   "source": [
    "### 3.1 Напишите функцию с циклом for\n",
    "Функция на вход принимает:\n",
    "исходный словарь\n",
    "ключи, которые нужно извлечь (аргумент по умолчанию)\n",
    "На выходе словарь с нужными \n",
    "ключами\n",
    "Используйте аннотирование типов\n",
    "3.2 Используя dict comprehensions"
   ]
  },
  {
   "cell_type": "code",
   "execution_count": 23,
   "id": "a68264c6",
   "metadata": {},
   "outputs": [],
   "source": [
    "def dict_write03(my_dict: dict, keys = ['name', 'age']) -> dict:\n",
    "    new_dict = {}\n",
    "    for key in keys:\n",
    "        new_dict[key] = my_dict.get(key)\n",
    "    return new_dict\n",
    "            "
   ]
  },
  {
   "cell_type": "code",
   "execution_count": 24,
   "id": "2e7b8a96",
   "metadata": {},
   "outputs": [
    {
     "data": {
      "text/plain": [
       "{'name': 'John', 'age': 25}"
      ]
     },
     "execution_count": 24,
     "metadata": {},
     "output_type": "execute_result"
    }
   ],
   "source": [
    "new_val = dict_write03(client_dict)\n",
    "new_val"
   ]
  },
  {
   "cell_type": "code",
   "execution_count": 28,
   "id": "10962351",
   "metadata": {},
   "outputs": [],
   "source": [
    "def dict_write03_2(my_dict: dict, keys = ['name', 'age']) -> dict:\n",
    "    return   {key: my_dict.get(key) for key in keys}\n",
    "\n",
    "            "
   ]
  },
  {
   "cell_type": "code",
   "execution_count": 30,
   "id": "d81901be",
   "metadata": {},
   "outputs": [
    {
     "data": {
      "text/plain": [
       "{'salary': 5000, 'city': 'Moscow'}"
      ]
     },
     "execution_count": 30,
     "metadata": {},
     "output_type": "execute_result"
    }
   ],
   "source": [
    "val = dict_write03_2(client_dict, keys = ['salary', 'city'])\n",
    "val"
   ]
  },
  {
   "cell_type": "markdown",
   "id": "72d555f8",
   "metadata": {},
   "source": [
    "### 4.1 Сгенерируйте случайные целые числа от 0 до 100 в количестве 5 штук с помощью модуля random\n",
    "Зафиксируйте псевдогенерацию, чтобы сгенерированные значения всегда были одинаковые\n",
    "Используйте list comprehensions\n",
    "Зафиксируйте псевдогенерацию, чтобы сгенерированные значения всегда были одинаковые\n",
    "Используйте list comprehensions"
   ]
  },
  {
   "cell_type": "code",
   "execution_count": 41,
   "id": "7c7fd3d6",
   "metadata": {},
   "outputs": [],
   "source": [
    "from random import randint, seed\n"
   ]
  },
  {
   "cell_type": "code",
   "execution_count": 42,
   "id": "4b81b2f6",
   "metadata": {},
   "outputs": [
    {
     "name": "stdout",
     "output_type": "stream",
     "text": [
      "43\n",
      "24\n",
      "97\n",
      "57\n",
      "76\n"
     ]
    }
   ],
   "source": [
    "for i in range(5):\n",
    "    print (randint(0,100))"
   ]
  },
  {
   "cell_type": "code",
   "execution_count": 53,
   "id": "297fa553",
   "metadata": {},
   "outputs": [
    {
     "data": {
      "text/plain": [
       "[73, 10, 62, 97, 33]"
      ]
     },
     "execution_count": 53,
     "metadata": {},
     "output_type": "execute_result"
    }
   ],
   "source": [
    "seed(6)\n",
    "list_compr =[randint(0,100) for _ in range(5) ]\n",
    "list_compr"
   ]
  },
  {
   "cell_type": "markdown",
   "id": "631c91ce",
   "metadata": {},
   "source": [
    "4.2* Напишите генератор\n",
    "Генератор на вход принимает список с данными о клиенте (данные из пункта 4.1)\n",
    "Внутри генератора реализуйте обход по списку с данными\n",
    "На каждой итерации генератор будет возвращать кортеж из двух элементов:\n",
    "данные по клиенту (в зависимости от итерации, на 0 итерации вернется 0 элемент, на 1 итерации вернется 1 элемент и тд)\n",
    "целочисленное значение, которое показывает, сколько секунд прошло с предыдущей итерации\n",
    "Примечание: секунды, которые возвращаются должны показывать время не с начала запуска генератора, а именно то время, которое прошло с предыдущей итерации. А значит время на первой итерации должно равняться 0.\n",
    "Используйте функцию time из модуля time для подсчета времени.\n",
    "Чтобы проверить работу таймера, запустите проход по генератору в цикле с time.sleep(2)"
   ]
  },
  {
   "cell_type": "code",
   "execution_count": 69,
   "id": "3b21226e",
   "metadata": {},
   "outputs": [],
   "source": [
    "from time import time, sleep"
   ]
  },
  {
   "cell_type": "markdown",
   "id": "2c154372",
   "metadata": {},
   "source": [
    "def tuple_write(lst: list) -> tuple:\n",
    "    time_first = time()\n",
    "    for el in lst:\n",
    "        now = time()\n",
    "        diff = now - time_first\n",
    "        tuple_new = (el, round(diff,0))\n",
    "        time_first = now\n",
    "        yield tuple_new\n",
    "        \n",
    "    "
   ]
  },
  {
   "cell_type": "code",
   "execution_count": 78,
   "id": "cc2e82f2",
   "metadata": {},
   "outputs": [
    {
     "name": "stdout",
     "output_type": "stream",
     "text": [
      "(73, 0.0)\n",
      "(10, 2.0)\n",
      "(62, 2.0)\n",
      "(97, 2.0)\n",
      "(33, 2.0)\n"
     ]
    }
   ],
   "source": [
    "for wr in tuple_write(list_compr):\n",
    "    print(wr)\n",
    "    sleep(2)\n"
   ]
  },
  {
   "cell_type": "markdown",
   "id": "64512b5d",
   "metadata": {},
   "source": [
    "### Задание 5.1 Найдите картинку в интернете и прикрепите её в ячейку с текстом\n",
    "### Задание 5.2 Создайте следующую таблицу в ячейке с текстом\n",
    "\n"
   ]
  },
  {
   "cell_type": "markdown",
   "id": "82e5d970",
   "metadata": {},
   "source": [
    "<img src = https://wallpapers.com/images/hd/kendo-japanese-martial-art-black-hakama-jnldb14l0hnawyr2.jpg  width=300>"
   ]
  },
  {
   "cell_type": "markdown",
   "id": "87d03aa7",
   "metadata": {},
   "source": [
    "<table>\n",
    "    <tr> \n",
    "        <td> </td>\n",
    "        <td>До события</td>\n",
    "        <td>Во время события</td>\n",
    "    </tr>\n",
    "    <tr> \n",
    "        <td>1 контрольная точка</td>\n",
    "        <td>250</td>\n",
    "        <td>500</td>\n",
    "    </tr>\n",
    "    <tr> \n",
    "        <td>2 контрольная точка</td>\n",
    "        <td>350</td>\n",
    "        <td>700</td>\n",
    "    </tr>\n",
    "    <tr> \n",
    "        <td>3 контрольная точка</td>\n",
    "        <td>400</td>\n",
    "        <td>800</td>\n",
    "    </tr>\n",
    "    <tr> \n",
    "        <td>Итого за победу</td>\n",
    "        <td>1000</td>\n",
    "        <td>2000</td>\n",
    "    </tr>\n",
    "</table>"
   ]
  },
  {
   "cell_type": "markdown",
   "id": "8c6da116",
   "metadata": {},
   "source": [
    "### Задание 6 Напишите функцию, которая может принимать любое количество трат пользователя и считать сумму и среднее.\n",
    "На вход поступают целочисленные значения в любом количестве\n",
    "На выходе словарь с ключами суммы трат и средней траты"
   ]
  },
  {
   "cell_type": "code",
   "execution_count": 84,
   "id": "41fa16e4",
   "metadata": {},
   "outputs": [],
   "source": [
    "import numpy as np"
   ]
  },
  {
   "cell_type": "code",
   "execution_count": 85,
   "id": "73c15f73",
   "metadata": {},
   "outputs": [
    {
     "data": {
      "text/plain": [
       "{'sum': 275, 'mean': 55.0}"
      ]
     },
     "execution_count": 85,
     "metadata": {},
     "output_type": "execute_result"
    }
   ],
   "source": [
    "def dict_pur(*args: int) -> dict:\n",
    "    return {'sum':sum(args),'mean':np.mean(args)}\n",
    "dict_pur(*list_compr)\n",
    "        \n",
    "        "
   ]
  },
  {
   "cell_type": "code",
   "execution_count": null,
   "id": "bff532c4",
   "metadata": {},
   "outputs": [],
   "source": []
  }
 ],
 "metadata": {
  "kernelspec": {
   "display_name": "Python 3 (ipykernel)",
   "language": "python",
   "name": "python3"
  },
  "language_info": {
   "codemirror_mode": {
    "name": "ipython",
    "version": 3
   },
   "file_extension": ".py",
   "mimetype": "text/x-python",
   "name": "python",
   "nbconvert_exporter": "python",
   "pygments_lexer": "ipython3",
   "version": "3.11.3"
  }
 },
 "nbformat": 4,
 "nbformat_minor": 5
}
